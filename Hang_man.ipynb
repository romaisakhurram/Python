{
  "nbformat": 4,
  "nbformat_minor": 0,
  "metadata": {
    "colab": {
      "provenance": [],
      "authorship_tag": "ABX9TyO/Rg89aBfG/hNauT9Wv7OG",
      "include_colab_link": true
    },
    "kernelspec": {
      "name": "python3",
      "display_name": "Python 3"
    },
    "language_info": {
      "name": "python"
    }
  },
  "cells": [
    {
      "cell_type": "markdown",
      "metadata": {
        "id": "view-in-github",
        "colab_type": "text"
      },
      "source": [
        "<a href=\"https://colab.research.google.com/github/romaisakhurram/Python/blob/main/Hang_man.ipynb\" target=\"_parent\"><img src=\"https://colab.research.google.com/assets/colab-badge.svg\" alt=\"Open In Colab\"/></a>"
      ]
    },
    {
      "cell_type": "markdown",
      "source": [
        "Hang man games"
      ],
      "metadata": {
        "id": "3R7Tk2vDl5-p"
      }
    },
    {
      "cell_type": "code",
      "source": [
        "import random\n",
        "\n",
        "words = [\n",
        "    \"python\",\n",
        "    \"javascript\",\n",
        "    \"hangman\",\n",
        "    \"programming\",\n",
        "    \"developer\",\n",
        "    \"algorithm\",\n",
        "    \"function\",\n",
        "    \"variable\",\n",
        "    \"debugging\",\n",
        "    \"software\"\n",
        "]\n",
        "\n",
        "word = random.choice(words)  # randomly chooses something from the list\n",
        "guessed_letter = []\n",
        "attempts = 6\n",
        "\n",
        "print(\"Welcome to the Hang man\")\n",
        "print(\"_ \" * len(word))\n",
        "\n",
        "while attempts > 0:\n",
        "  guess = input(\"\\n Guess the letter:\").lower()\n",
        "\n",
        "  if len(guess) != 1 or not guess.isalpha():\n",
        "    print(\"Write one alphabets only!\")\n",
        "    continue\n",
        "  if guess in guessed_letter:\n",
        "    print(\"This letter is already guess choose another letters:\")\n",
        "  guessed_letter.append(guess)\n",
        "\n",
        "  if guess in word:\n",
        "    print(\"correct guess!\")\n",
        "  else:\n",
        "    attempts -= 1\n",
        "    print(f\"Wrong guess! You have {attempts} attempts left.\")\n",
        "\n",
        "    displayed_word = \" \".join([letter if letter in guessed_letter else \"_\" for letter in word])\n",
        "    print(displayed_word)\n",
        "\n",
        "    if \"_\" not in displayed_word:\n",
        "      print(f\"Congratulations! You guessed the word: {word}\")\n",
        "    break\n",
        "else:\n",
        "    print(f\"Game over! The word was: {word}\")\n"
      ],
      "metadata": {
        "colab": {
          "base_uri": "https://localhost:8080/"
        },
        "id": "dCEipswtl_AQ",
        "outputId": "bd2bdb54-9e9b-48ab-edc8-c69ac6191c46"
      },
      "execution_count": 8,
      "outputs": [
        {
          "output_type": "stream",
          "name": "stdout",
          "text": [
            "Welcome to the Hang man\n",
            "_ _ _ _ _ _ _ _ _ _ \n",
            "\n",
            " Guess the letter:t\n",
            "correct guess!\n",
            "\n",
            " Guess the letter:b\n",
            "Wrong guess! You have 5 attempts left.\n",
            "_ _ _ _ _ _ _ _ _ t\n"
          ]
        }
      ]
    }
  ]
}