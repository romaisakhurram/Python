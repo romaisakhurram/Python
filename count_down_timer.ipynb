{
  "nbformat": 4,
  "nbformat_minor": 0,
  "metadata": {
    "colab": {
      "provenance": [],
      "authorship_tag": "ABX9TyOxLV+FHO2vPP0rh+eEMOrs",
      "include_colab_link": true
    },
    "kernelspec": {
      "name": "python3",
      "display_name": "Python 3"
    },
    "language_info": {
      "name": "python"
    }
  },
  "cells": [
    {
      "cell_type": "markdown",
      "metadata": {
        "id": "view-in-github",
        "colab_type": "text"
      },
      "source": [
        "<a href=\"https://colab.research.google.com/github/romaisakhurram/Python/blob/main/count_down_timer.ipynb\" target=\"_parent\"><img src=\"https://colab.research.google.com/assets/colab-badge.svg\" alt=\"Open In Colab\"/></a>"
      ]
    },
    {
      "cell_type": "code",
      "execution_count": 5,
      "metadata": {
        "colab": {
          "base_uri": "https://localhost:8080/"
        },
        "id": "fl3xUATnCTgD",
        "outputId": "7acc4f56-a0fb-44a3-f037-6b85366adf28"
      },
      "outputs": [
        {
          "output_type": "stream",
          "name": "stdout",
          "text": [
            "Enter time in seconds and minutes:10\n",
            "00:00 \n",
            "  Time it's up!\n"
          ]
        }
      ],
      "source": [
        "import time\n",
        "def count_down_timer(seconds):\n",
        "  while seconds > 0:\n",
        "    mins , secs = divmod(seconds,60)\n",
        "    timer = '{:02d}:{:02d}'.format(mins,secs)\n",
        "    print(timer,end=\"\\r\")\n",
        "    time.sleep(1)\n",
        "    seconds -= 1\n",
        "  print(\"00:00 \\n  Time it's up!\")\n",
        "\n",
        "try:\n",
        "  total_seconds = int(input(\"Enter time in seconds and minutes:\"))\n",
        "  count_down_timer(total_seconds)\n",
        "except ValueError:\n",
        "    print(\"Invalid input. Please enter a valid number\")\n",
        "\n"
      ]
    }
  ]
}