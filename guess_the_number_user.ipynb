{
  "nbformat": 4,
  "nbformat_minor": 0,
  "metadata": {
    "colab": {
      "provenance": [],
      "authorship_tag": "ABX9TyNf9oU1ssvLmKap2RvrKeeq",
      "include_colab_link": true
    },
    "kernelspec": {
      "name": "python3",
      "display_name": "Python 3"
    },
    "language_info": {
      "name": "python"
    }
  },
  "cells": [
    {
      "cell_type": "markdown",
      "metadata": {
        "id": "view-in-github",
        "colab_type": "text"
      },
      "source": [
        "<a href=\"https://colab.research.google.com/github/romaisakhurram/Python/blob/main/guess_the_number_user.ipynb\" target=\"_parent\"><img src=\"https://colab.research.google.com/assets/colab-badge.svg\" alt=\"Open In Colab\"/></a>"
      ]
    },
    {
      "cell_type": "markdown",
      "source": [
        "#Guess the number (user)"
      ],
      "metadata": {
        "id": "GJ69CuSpzrmc"
      }
    },
    {
      "cell_type": "code",
      "source": [
        "import random\n",
        "\n",
        "original_number = random.randint(1, 99)\n",
        "print(\" Guess a number between 1 and 99!\")\n",
        "\n",
        "while True:\n",
        "    guessed_number = int(input(\"Enter your number:\"))\n",
        "\n",
        "    if guessed_number < original_number:\n",
        "        print(\"Your guess is too low\")\n",
        "    elif guessed_number > original_number:\n",
        "        print(\"Your guess is too high\")\n",
        "    else:\n",
        "        print(\"You guessed the correct number!\")\n",
        "        break\n",
        ""
      ],
      "metadata": {
        "colab": {
          "base_uri": "https://localhost:8080/"
        },
        "id": "XFykt0LDzxhA",
        "outputId": "c8f78079-0846-47d5-9c9a-4a3e7d0b4e32"
      },
      "execution_count": 1,
      "outputs": [
        {
          "output_type": "stream",
          "name": "stdout",
          "text": [
            " Guess a number between 1 and 99!\n",
            "Enter your number:5\n",
            "Your guess is too low\n",
            "Enter your number:10\n",
            "Your guess is too low\n",
            "Enter your number:30\n",
            "Your guess is too low\n",
            "Enter your number:50\n",
            "Your guess is too low\n",
            "Enter your number:70\n",
            "Your guess is too low\n",
            "Enter your number:80\n",
            "Your guess is too low\n",
            "Enter your number:99\n",
            "Your guess is too high\n",
            "Enter your number:85\n",
            "Your guess is too low\n",
            "Enter your number:88\n",
            "Your guess is too low\n",
            "Enter your number:89\n",
            "Your guess is too low\n",
            "Enter your number:92\n",
            "Your guess is too low\n",
            "Enter your number:98\n",
            "Your guess is too high\n",
            "Enter your number:97\n",
            "You guessed the correct number!\n"
          ]
        }
      ]
    }
  ]
}