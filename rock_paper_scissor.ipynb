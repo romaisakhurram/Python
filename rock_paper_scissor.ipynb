{
  "nbformat": 4,
  "nbformat_minor": 0,
  "metadata": {
    "colab": {
      "provenance": [],
      "authorship_tag": "ABX9TyPwYex1MS4/7XzMWRp6LRPv",
      "include_colab_link": true
    },
    "kernelspec": {
      "name": "python3",
      "display_name": "Python 3"
    },
    "language_info": {
      "name": "python"
    }
  },
  "cells": [
    {
      "cell_type": "markdown",
      "metadata": {
        "id": "view-in-github",
        "colab_type": "text"
      },
      "source": [
        "<a href=\"https://colab.research.google.com/github/romaisakhurram/Python/blob/main/rock_paper_scissor.ipynb\" target=\"_parent\"><img src=\"https://colab.research.google.com/assets/colab-badge.svg\" alt=\"Open In Colab\"/></a>"
      ]
    },
    {
      "cell_type": "markdown",
      "source": [
        "Rock paper Scissor games"
      ],
      "metadata": {
        "id": "S3_knfd4m6KW"
      }
    },
    {
      "cell_type": "code",
      "source": [
        "import random\n",
        "\n",
        "def play():\n",
        "    user = input(\"What's your choice? 'r' for rock, 'p' for paper, 's' for scissors\\n\")\n",
        "    computer = random.choice(['r', 'p', 's'])\n",
        "\n",
        "    if user == computer:\n",
        "        return 'It\\'s a tie'\n",
        "\n",
        "    # r > s, s > p, p > r\n",
        "    if is_win(user, computer):\n",
        "        return 'You won!'\n",
        "\n",
        "    return 'You lost!'\n",
        "\n",
        "def is_win(player, opponent):\n",
        "    # return true if player wins\n",
        "    # r > s, s > p, p > r\n",
        "    if (player == 'r' and opponent == 's') or (player == 's' and opponent == 'p') \\\n",
        "        or (player == 'p' and opponent == 'r'):\n",
        "        return True\n",
        "\n",
        "print(play())"
      ],
      "metadata": {
        "colab": {
          "base_uri": "https://localhost:8080/"
        },
        "id": "DC5KCRuUm8lv",
        "outputId": "86b9f2a9-7b71-4159-d64b-4d8a46a79c30"
      },
      "execution_count": 4,
      "outputs": [
        {
          "output_type": "stream",
          "name": "stdout",
          "text": [
            "What's your choice? 'r' for rock, 'p' for paper, 's' for scissors\n",
            "r\n",
            "You won!\n"
          ]
        }
      ]
    }
  ]
}