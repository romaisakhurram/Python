{
  "nbformat": 4,
  "nbformat_minor": 0,
  "metadata": {
    "colab": {
      "provenance": [],
      "authorship_tag": "ABX9TyNkFgZJCVM7YktjpEgNOKb2",
      "include_colab_link": true
    },
    "kernelspec": {
      "name": "python3",
      "display_name": "Python 3"
    },
    "language_info": {
      "name": "python"
    }
  },
  "cells": [
    {
      "cell_type": "markdown",
      "metadata": {
        "id": "view-in-github",
        "colab_type": "text"
      },
      "source": [
        "<a href=\"https://colab.research.google.com/github/romaisakhurram/Python/blob/main/mad_lib.ipynb\" target=\"_parent\"><img src=\"https://colab.research.google.com/assets/colab-badge.svg\" alt=\"Open In Colab\"/></a>"
      ]
    },
    {
      "cell_type": "markdown",
      "source": [
        "mad_lib games in python"
      ],
      "metadata": {
        "id": "3-zW7hlHUfIS"
      }
    },
    {
      "cell_type": "code",
      "source": [
        "name = input(\"Enter your name:\")\n",
        "programming_language = input(\"Enter your programming language:\")\n",
        "mentor = input(\"Enter your mentor:\")\n",
        "\n",
        "print(f\"Once upon a time there was a name {name}. \")\n",
        "print(f\"{name} was very curious and want to learn to new thing.\")\n",
        "print(f\"Once day he decided to learn {programming_language} language at Governor House.\")\n",
        "print(f\"Luckily {name} found a great {mentor}!\")\n"
      ],
      "metadata": {
        "colab": {
          "base_uri": "https://localhost:8080/"
        },
        "id": "PmIyW8XvUjpH",
        "outputId": "43445e02-732b-4676-8d80-f16a6f8dade0"
      },
      "execution_count": 5,
      "outputs": [
        {
          "output_type": "stream",
          "name": "stdout",
          "text": [
            "Enter your name:romaisa\n",
            "Enter your programming language:python\n",
            "Enter your mentor:Sir anas\n",
            "Once upon a time there was a name romaisa. \n",
            "romaisa was very curious and want to learn to new thing.\n",
            "Once day he decided to learn python language at Governor House.\n",
            "Luckily romaisa found a great Sir anas!\n"
          ]
        }
      ]
    }
  ]
}