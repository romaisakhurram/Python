{
  "nbformat": 4,
  "nbformat_minor": 0,
  "metadata": {
    "colab": {
      "provenance": [],
      "authorship_tag": "ABX9TyOGBsr7lYB1LlWmZ2hksJ/+",
      "include_colab_link": true
    },
    "kernelspec": {
      "name": "python3",
      "display_name": "Python 3"
    },
    "language_info": {
      "name": "python"
    }
  },
  "cells": [
    {
      "cell_type": "markdown",
      "metadata": {
        "id": "view-in-github",
        "colab_type": "text"
      },
      "source": [
        "<a href=\"https://colab.research.google.com/github/romaisakhurram/Python/blob/main/password_generator.ipynb\" target=\"_parent\"><img src=\"https://colab.research.google.com/assets/colab-badge.svg\" alt=\"Open In Colab\"/></a>"
      ]
    },
    {
      "cell_type": "markdown",
      "source": [
        "Password generator"
      ],
      "metadata": {
        "id": "N00EwCXFoOZX"
      }
    },
    {
      "cell_type": "code",
      "source": [
        "import random\n",
        "import string\n",
        "\n",
        "def generate_password(length, use_digits, use_special):\n",
        "    characters = string.ascii_letters\n",
        "\n",
        "    if use_digits:\n",
        "        characters += string.digits\n",
        "\n",
        "    if use_special:\n",
        "        characters += (\n",
        "            string.punctuation\n",
        "        )\n",
        "    return \"\".join(random.choice(characters) for _ in range(length))\n",
        "\n",
        "try:\n",
        "    length = int(input(\"Select password length: \"))\n",
        "except ValueError:\n",
        "    print(\"Invalid input. Please enter a valid number for the password length.\")\n",
        "    exit()\n",
        "\n",
        "use_digits = (\"Include numbers\")\n",
        "use_special = \"Include special characters\"\n",
        "\n",
        "password = generate_password(length, use_digits, use_special)\n",
        "print(f\"Generated Password: `{password}`\")\n"
      ],
      "metadata": {
        "colab": {
          "base_uri": "https://localhost:8080/"
        },
        "id": "29cFFyeIoRmH",
        "outputId": "45e2e218-7313-4c7c-9fb1-bfc2ef1d0a46"
      },
      "execution_count": 7,
      "outputs": [
        {
          "output_type": "stream",
          "name": "stdout",
          "text": [
            "Select password length: 7\n",
            "Generated Password: `g7\\PS=p`\n"
          ]
        }
      ]
    }
  ]
}