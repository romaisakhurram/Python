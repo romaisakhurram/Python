{
  "nbformat": 4,
  "nbformat_minor": 0,
  "metadata": {
    "colab": {
      "provenance": [],
      "authorship_tag": "ABX9TyOChjFAIjseqPSkgXLRSZYc",
      "include_colab_link": true
    },
    "kernelspec": {
      "name": "python3",
      "display_name": "Python 3"
    },
    "language_info": {
      "name": "python"
    }
  },
  "cells": [
    {
      "cell_type": "markdown",
      "metadata": {
        "id": "view-in-github",
        "colab_type": "text"
      },
      "source": [
        "<a href=\"https://colab.research.google.com/github/romaisakhurram/Python/blob/main/guess_the_number.ipynb\" target=\"_parent\"><img src=\"https://colab.research.google.com/assets/colab-badge.svg\" alt=\"Open In Colab\"/></a>"
      ]
    },
    {
      "cell_type": "markdown",
      "source": [
        "Guess the number (computer"
      ],
      "metadata": {
        "id": "EOWiNELcaxc8"
      }
    },
    {
      "cell_type": "code",
      "source": [
        "import random\n",
        "\n",
        "def guess_the_number():\n",
        "\n",
        "    number = random.randint(1 , 99)\n",
        "\n",
        "    guesses_number = 8\n",
        "\n",
        "    print(\"Welcome to the number guessing game\")\n",
        "    print(\"I'm thinking of a number between 1 and 99\")\n",
        "\n",
        "    while guesses_number > 0:\n",
        "        print(f\"You have {guesses_number} guesses number\")\n",
        "        try:\n",
        "            guess = int(input(\"Take a guess: \"))\n",
        "        except ValueError:\n",
        "            print(\"Invalid input. Please enter a number.\")\n",
        "            continue\n",
        "\n",
        "        if guess < number:\n",
        "            print(\"Too low! Try again.\")\n",
        "        elif guess > number:\n",
        "            print(\"Too high! Try again.\")\n",
        "        else:\n",
        "            print(f\"Congratulations! You guessed the correct number in {8 - guesses_number + 1} tries.\")\n",
        "            return\n",
        "\n",
        "        guesses_number -= 1\n",
        "\n",
        "    print(f\"Sorry, you've run out of guesses. The correct number was {number}.\")\n",
        "\n",
        "guess_the_number()"
      ],
      "metadata": {
        "colab": {
          "base_uri": "https://localhost:8080/"
        },
        "id": "96D26JcGa1At",
        "outputId": "56ff7472-d133-435b-cf0b-064b50330192"
      },
      "execution_count": 2,
      "outputs": [
        {
          "output_type": "stream",
          "name": "stdout",
          "text": [
            "Welcome to the number guessing game\n",
            "I'm thinking of a number between 1 and 99\n",
            "You have 8 guesses number\n",
            "Take a guess: 4\n",
            "Too low! Try again.\n",
            "You have 7 guesses number\n",
            "Take a guess: 6\n",
            "Too low! Try again.\n",
            "You have 6 guesses number\n",
            "Take a guess: 2\n",
            "Too low! Try again.\n",
            "You have 5 guesses number\n",
            "Take a guess: 8\n",
            "Too low! Try again.\n",
            "You have 4 guesses number\n",
            "Take a guess: 9\n",
            "Too low! Try again.\n",
            "You have 3 guesses number\n",
            "Take a guess: 45\n",
            "Too low! Try again.\n",
            "You have 2 guesses number\n",
            "Take a guess: 34\n",
            "Too low! Try again.\n",
            "You have 1 guesses number\n",
            "Take a guess: 2\n",
            "Too low! Try again.\n",
            "Sorry, you've run out of guesses. The correct number was 52.\n"
          ]
        }
      ]
    }
  ]
}